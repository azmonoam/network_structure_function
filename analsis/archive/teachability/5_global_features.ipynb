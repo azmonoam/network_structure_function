{
 "cells": [
  {
   "cell_type": "code",
   "execution_count": 2,
   "metadata": {
    "collapsed": true
   },
   "outputs": [],
   "source": [
    "from datetime import datetime as dt\n",
    "from typing import Dict\n",
    "import matplotlib.pyplot as plt\n",
    "import pandas as pd\n",
    "import numpy as np\n",
    "from matplotlib.patches import Patch\n",
    "\n",
    "COLORS_7 = ['#4F6272', '#B7C3F3', '#DD7596', '#8EB897', '#f6bd60', '#e76f51', '#2a9d8f']\n",
    "\n",
    "from analsis.analsis_utils.plot_utils import plot_all_num_features_models, \\\n",
    "    plot_loss_and_r2s_for_selected_feature_numbers, \\\n",
    "    plot_num_features_vs_r2, plot_bar_plot_of_used_features, plot_r2_vs_num_features, \\\n",
    "    plot_double_bar_plot_of_used_features_different_algos, plot_num_uses_global_local\n",
    "from analsis.analsis_utils.utils import collect_num_uses_different_exp, prepare_data_of_used_features\n"
   ]
  },
  {
   "cell_type": "code",
   "execution_count": 3,
   "outputs": [],
   "source": [
    "\n",
    "base_path = '/Volumes/noamaz/modularity/teach_archs'\n",
    "local_base_path = '/Users/noamazmon/PycharmProjects/network_modularity'\n",
    "num_features = 5"
   ],
   "metadata": {
    "collapsed": false
   }
  },
  {
   "cell_type": "code",
   "execution_count": 6,
   "outputs": [],
   "source": [
    "retina_base_path = f\"{base_path}/retina/retina_feature_selection/teach_archs_regression_feature_selection_results\"\n",
    "xor_base_path = f\"{base_path}/xor/xor_feature_selection/teach_archs_regression_feature_selection_results\"\n",
    "digit_base_path = f\"{base_path}/digits/digits_feature_selection/teach_archs_regression_feature_selection_results\"\n",
    "\n",
    "retina_nn = f'{retina_base_path}/retina_2023-08-01-15-57-58_lr_0.001_bs_512_output_meta_only_5_features_motifs_count_density_entropy.csv'\n",
    "retina_lgb = f'{retina_base_path}/retina_2023-08-01-16-54-23_lightgbm__motifs_count_density_entropy.csv'\n",
    "\n",
    "xor_nn = f'{xor_base_path}/xor_2023-08-01-16-24-25_lr_0.001_bs_512_output_meta_only_5_features_motifs_count_density_entropy.csv'\n",
    "xor_lgb = f'{xor_base_path}/xor_2023-08-01-16-56-58_lightgbm__motifs_count_density_entropy.csv'\n",
    "\n",
    "digits_nn = f'{digit_base_path}/digits_2023-08-01-16-30-38_lr_0.001_bs_512_output_meta_only_5_features_motifs_count_density_entropy.csv'\n",
    "digits_lgb = f'{digit_base_path}/digits_2023-08-01-16-57-55_lightgbm__motifs_count_density_entropy.csv'"
   ],
   "metadata": {
    "collapsed": false
   }
  },
  {
   "cell_type": "code",
   "execution_count": 14,
   "outputs": [],
   "source": [
    "names = ['retina_lgb', 'retina_nn', 'xor_lgb', 'xor_nn', 'digits_lgb', 'digits_nn']\n",
    "res = []\n",
    "for csv_path in [retina_lgb, retina_nn, xor_lgb, xor_nn, digits_lgb, digits_nn]:\n",
    "    res.append(pd.read_csv(csv_path))"
   ],
   "metadata": {
    "collapsed": false
   }
  },
  {
   "cell_type": "code",
   "execution_count": 15,
   "outputs": [
    {
     "name": "stdout",
     "output_type": "stream",
     "text": [
      "retina_lgb: 0.9095722788867672\n",
      "retina_nn: 0.9119226\n",
      "xor_lgb: 0.9709664467042628\n",
      "xor_nn: 0.9565623\n",
      "digits_lgb: 0.9931861727072252\n",
      "digits_nn: 0.958918\n"
     ]
    }
   ],
   "source": [
    "for i in range(len(res)):\n",
    "    print(f\"{names[i]}: {res[i]['r2s test'].iloc[-1]}\")"
   ],
   "metadata": {
    "collapsed": false
   }
  },
  {
   "cell_type": "code",
   "execution_count": 65,
   "outputs": [
    {
     "data": {
      "text/plain": "<Figure size 640x480 with 1 Axes>",
      "image/png": "[encoded data removed]"
     },
     "metadata": {},
     "output_type": "display_data"
    }
   ],
   "source": [
    "plt.figure()\n",
    "bar_size = 0.15\n",
    "padding = 0.30\n",
    "locs =[ (i * bar_size) + padding for i in range(len(names))]\n",
    "reses = [res[i]['r2s test'].iloc[-1] for i in range(len(names))]\n",
    "sorted_vals = [(x, y) for x, y in sorted(zip(reses, names), reverse=True)]\n",
    "sage = [\"#7d8f69\", \"#a9af7e\", \"#557153\", ]\n",
    "grays = [\"#b3bfd1\", \"#d7e1ee\", \"#54504c\"]\n",
    "\n",
    "rads = [\"#ea5545\", \"#e1a692\", \"#b30000\", ]\n",
    "purples = [\"#9080ff\", \"#beb9db\", \"#5e569b\"]\n",
    "colors = [ grays[0], purples[0], grays[1], purples[1] , rads[1], rads[0]]\n",
    "for i in range(len(locs)):\n",
    "    plt.barh(locs[i], sorted_vals[i][0], label=sorted_vals[i][1], height=bar_size,\n",
    "               color=colors[i]  )\n",
    "plt.xlabel('test r2 score')\n",
    "plt.yticks(\n",
    "            ticks=locs,\n",
    "            labels=[y for x,y, in sorted_vals],\n",
    "        )\n",
    "plt.xlim(\n",
    "      0.8, 1\n",
    "    )\n",
    "plt.title('R2 scores with selected features - motifs (1-3), density and entropy')\n",
    "plt.savefig(\n",
    "            f\"{local_base_path}/plots/top_features/r2_chosen_top_5_feature_analsis.png\")\n"
   ],
   "metadata": {
    "collapsed": false
   }
  },
  {
   "cell_type": "code",
   "execution_count": 47,
   "outputs": [
    {
     "data": {
      "text/plain": "[(0.9931861727072252, 'digits_lgb'),\n (0.9709664467042628, 'xor_lgb'),\n (0.958918, 'digits_nn'),\n (0.9565623, 'xor_nn'),\n (0.9119226, 'retina_nn'),\n (0.9095722788867672, 'retina_lgb')]"
     },
     "execution_count": 47,
     "metadata": {},
     "output_type": "execute_result"
    }
   ],
   "source": [
    "sorted_vals"
   ],
   "metadata": {
    "collapsed": false
   }
  },
  {
   "cell_type": "code",
   "execution_count": null,
   "outputs": [],
   "source": [
    "for i in range(len(names)):\n",
    "    loc = y_locs + (i * bar_size)\n",
    "    plt.barh(y_locs + (i * bar_size), res[i]['r2s test'].iloc[-1], height=bar_size,\n",
    "             label=names[i])\n",
    "    locs.append(loc)"
   ],
   "metadata": {
    "collapsed": false
   }
  },
  {
   "cell_type": "code",
   "execution_count": 38,
   "outputs": [
    {
     "data": {
      "text/plain": "[0.3, 0.44999999999999996, 0.6, 0.75, 0.8999999999999999, 1.05]"
     },
     "execution_count": 38,
     "metadata": {},
     "output_type": "execute_result"
    }
   ],
   "source": [
    "locs"
   ],
   "metadata": {
    "collapsed": false
   }
  },
  {
   "cell_type": "code",
   "execution_count": null,
   "outputs": [],
   "source": [],
   "metadata": {
    "collapsed": false
   }
  }
 ],
 "metadata": {
  "kernelspec": {
   "display_name": "Python 3",
   "language": "python",
   "name": "python3"
  },
  "language_info": {
   "codemirror_mode": {
    "name": "ipython",
    "version": 2
   },
   "file_extension": ".py",
   "mimetype": "text/x-python",
   "name": "python",
   "nbconvert_exporter": "python",
   "pygments_lexer": "ipython2",
   "version": "2.7.6"
  }
 },
 "nbformat": 4,
 "nbformat_minor": 0
}

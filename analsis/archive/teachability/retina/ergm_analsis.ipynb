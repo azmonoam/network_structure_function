{
 "cells": [
  {
   "cell_type": "code",
   "execution_count": 2,
   "outputs": [
    {
     "ename": "ModuleNotFoundError",
     "evalue": "No module named 'find_feature_spectrum'",
     "output_type": "error",
     "traceback": [
      "\u001B[0;31m---------------------------------------------------------------------------\u001B[0m",
      "\u001B[0;31mModuleNotFoundError\u001B[0m                       Traceback (most recent call last)",
      "Cell \u001B[0;32mIn[2], line 5\u001B[0m\n\u001B[1;32m      1\u001B[0m \u001B[38;5;28;01mfrom\u001B[39;00m \u001B[38;5;21;01m_datetime\u001B[39;00m \u001B[38;5;28;01mimport\u001B[39;00m datetime \u001B[38;5;28;01mas\u001B[39;00m dt\n\u001B[1;32m      3\u001B[0m \u001B[38;5;28;01mimport\u001B[39;00m \u001B[38;5;21;01mjoblib\u001B[39;00m\n\u001B[0;32m----> 5\u001B[0m \u001B[38;5;28;01mfrom\u001B[39;00m \u001B[38;5;21;01mmain\u001B[39;00m\u001B[38;5;21;01m.\u001B[39;00m\u001B[38;5;21;01mergm_model\u001B[39;00m\u001B[38;5;21;01m.\u001B[39;00m\u001B[38;5;21;01mdata_halper\u001B[39;00m \u001B[38;5;28;01mimport\u001B[39;00m get_dist_lookup_data\n\u001B[1;32m      6\u001B[0m \u001B[38;5;28;01mfrom\u001B[39;00m \u001B[38;5;21;01mmain\u001B[39;00m\u001B[38;5;21;01m.\u001B[39;00m\u001B[38;5;21;01mergm_model\u001B[39;00m\u001B[38;5;21;01m.\u001B[39;00m\u001B[38;5;21;01mergm\u001B[39;00m \u001B[38;5;28;01mimport\u001B[39;00m Ergm\n\u001B[1;32m      7\u001B[0m \u001B[38;5;28;01mfrom\u001B[39;00m \u001B[38;5;21;01mmain\u001B[39;00m\u001B[38;5;21;01m.\u001B[39;00m\u001B[38;5;21;01mjobs_params\u001B[39;00m \u001B[38;5;28;01mimport\u001B[39;00m get_new_arch_params_no_modularity\n",
      "File \u001B[0;32m~/PycharmProjects/network_modularity/main/ergm_model/data_halper.py:3\u001B[0m\n\u001B[1;32m      1\u001B[0m \u001B[38;5;28;01mfrom\u001B[39;00m \u001B[38;5;21;01mtyping\u001B[39;00m \u001B[38;5;28;01mimport\u001B[39;00m List, Tuple, Dict, Any\n\u001B[0;32m----> 3\u001B[0m \u001B[38;5;28;01mfrom\u001B[39;00m \u001B[38;5;21;01mfind_feature_spectrum\u001B[39;00m\u001B[38;5;21;01m.\u001B[39;00m\u001B[38;5;21;01mfind_feature_dist\u001B[39;00m \u001B[38;5;28;01mimport\u001B[39;00m FindFeaturesDist\n\u001B[1;32m      4\u001B[0m \u001B[38;5;28;01mfrom\u001B[39;00m \u001B[38;5;21;01mfind_feature_spectrum\u001B[39;00m\u001B[38;5;21;01m.\u001B[39;00m\u001B[38;5;21;01mutils\u001B[39;00m \u001B[38;5;28;01mimport\u001B[39;00m get_selected_feature_names, get_features_of_samples\n\u001B[1;32m      7\u001B[0m \u001B[38;5;28;01mdef\u001B[39;00m \u001B[38;5;21mget_list_of_functions_from_features_names\u001B[39m(\n\u001B[1;32m      8\u001B[0m         method_class,\n\u001B[1;32m      9\u001B[0m         features_names_list: List[\u001B[38;5;28mstr\u001B[39m],\n\u001B[1;32m     10\u001B[0m ):\n",
      "\u001B[0;31mModuleNotFoundError\u001B[0m: No module named 'find_feature_spectrum'"
     ]
    }
   ],
   "source": [
    "\n",
    "from _datetime import datetime as dt\n",
    "\n",
    "import joblib\n",
    "\n",
    "from main.ergm_model.data_halper import get_dist_lookup_data\n",
    "from main.ergm_model.ergm import Ergm\n",
    "from main.jobs_params import get_new_arch_params_no_modularity\n",
    "from main.utils.tasks_params import RetinaParameters"
   ],
   "metadata": {
    "collapsed": false
   }
  },
  {
   "cell_type": "code",
   "execution_count": null,
   "outputs": [],
   "source": [
    "exp_name = f'{dt.now().strftime(\"%Y-%m-%d-%H-%M-%S\")}'\n",
    "task_params = RetinaParameters\n",
    "task = task_params.task_name\n",
    "num_features = 5\n",
    "base_path = '/home/labs/schneidmann/noamaz/modularity'\n",
    "base_path = '/Volumes/noamaz/modularity'\n",
    "example_graphs_path = f'{base_path}/teach_archs/retina/retina_teach_archs_requiered_features_genetic/5_features_no_modularity/2023-07-17-14-24-59_models.pkl'#%%\n"
   ],
   "metadata": {
    "collapsed": false
   }
  },
  {
   "cell_type": "code",
   "execution_count": null,
   "outputs": [],
   "source": [
    "selected_feature_names, find_feature_dist = get_dist_lookup_data(\n",
    "        task=task,\n",
    "        num_features=num_features,\n",
    "        base_path=base_path,\n",
    "        params_dict=get_new_arch_params_no_modularity,\n",
    "        normalize=True,\n",
    "    )\n",
    "initial_coeffs_values = [-0.01318484, - 0.17043481, 0.09515968, - 0.92187952, - 0.92190889]\n",
    "e = Ergm(\n",
    "        features_names=selected_feature_names,\n",
    "        dimensions=task_params.start_dimensions,\n",
    "        restrict_allowed_connections=True,\n",
    "        find_feature_dist=find_feature_dist,\n",
    "        initial_coeffs_values=initial_coeffs_values,\n",
    "        example_graphs_path=example_graphs_path,\n",
    ")\n",
    "\n",
    "with open(\n",
    "        f'{base_path}/teach_archs/{task}/retina_teach_archs_requiered_features_ergm/5_features/ergm_results/2023-07-22-14-40-54.pkl',\n",
    "        'rb') as fp:\n",
    "    res = joblib.load(fp)\n",
    "\n",
    "stats = {\n",
    "    f: []\n",
    "    for f in e.features_names\n",
    "}\n",
    "for g in res['graphs']:\n",
    "    s = e.calc_stats(graph=g)\n",
    "    for i in range(len(s)):\n",
    "        stats[e.features_names[i]].append(s[i])"
   ],
   "metadata": {
    "collapsed": false
   }
  }
 ],
 "metadata": {
  "kernelspec": {
   "display_name": "Python 3",
   "language": "python",
   "name": "python3"
  },
  "language_info": {
   "codemirror_mode": {
    "name": "ipython",
    "version": 2
   },
   "file_extension": ".py",
   "mimetype": "text/x-python",
   "name": "python",
   "nbconvert_exporter": "python",
   "pygments_lexer": "ipython2",
   "version": "2.7.6"
  }
 },
 "nbformat": 4,
 "nbformat_minor": 0
}

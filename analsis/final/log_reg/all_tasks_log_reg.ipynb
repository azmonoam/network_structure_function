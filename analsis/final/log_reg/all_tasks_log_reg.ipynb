{
 "cells": [
  {
   "cell_type": "code",
   "execution_count": 1,
   "metadata": {
    "collapsed": true
   },
   "outputs": [],
   "source": [
    "import numpy as np\n",
    "import pandas as pd\n",
    "import matplotlib.pyplot as plt\n",
    "from datetime import datetime as dt\n",
    "import os\n",
    "import textwrap\n",
    "import seaborn as sns\n",
    "import matplotlib\n",
    "\n",
    "plt.rcParams.update(matplotlib.rcParamsDefault)\n",
    "COLORS = ['#4F6272', '#B7C3F3', '#DD7596', '#8EB897', '#f6bd60', '#e76f51', '#2a9d8f', \"#c77dff\", \"#f7d6e0\"]\n",
    "\n",
    "semi_balck = '#4F6272'#%%\n",
    "import numpy as np\n",
    "import pandas as pd\n",
    "import matplotlib.pyplot as plt\n",
    "from datetime import datetime as dt\n",
    "import os\n",
    "import textwrap\n",
    "import seaborn as sns\n",
    "import matplotlib\n",
    "\n",
    "plt.rcParams.update(matplotlib.rcParamsDefault)\n",
    "COLORS = ['#4F6272', '#B7C3F3', '#DD7596', '#8EB897', '#f6bd60', '#e76f51', '#2a9d8f', \"#c77dff\", \"#f7d6e0\"]\n",
    "\n",
    "semi_balck = '#4F6272'"
   ]
  },
  {
   "cell_type": "code",
   "execution_count": 2,
   "outputs": [],
   "source": [
    "results_path = \"/Volumes/noamaz/modularity/\"\n",
    "local_base_path = '/Users/noamazmon/PycharmProjects/network_modularity'\n",
    "\n",
    "time_str = dt.now().strftime(\"%Y-%m-%d-%H-%M-%S\")\n",
    "\n"
   ],
   "metadata": {
    "collapsed": false
   }
  },
  {
   "cell_type": "code",
   "execution_count": 9,
   "outputs": [],
   "source": [
    "plot_path = f\"{local_base_path}/plots/all_togther\"\n",
    "task = \"retina_xor\"\n",
    "num_layers = '3'\n",
    "retina_res_folder = f\"{task}/retina_{num_layers}_layers\"\n",
    "retina_lgb_res_path = f\"{results_path}/{retina_res_folder}\"\n"
   ],
   "metadata": {
    "collapsed": false
   }
  },
  {
   "cell_type": "code",
   "execution_count": 10,
   "outputs": [],
   "source": [
    "task = \"xor\"\n",
    "num_layers = \"4\"\n",
    "xor_res_folder = f\"{task}/{task}_{num_layers}_layers\"\n",
    "xor_lgb_res_path = f\"{results_path}/{xor_res_folder}/\"\n"
   ],
   "metadata": {
    "collapsed": false
   }
  },
  {
   "cell_type": "code",
   "execution_count": 11,
   "outputs": [],
   "source": [
    "task = \"digits\"\n",
    "num_layers = '3'\n",
    "digit_res_folder = f\"{task}/digits_{num_layers}_layers\"\n",
    "digit_lgb_res_path = f\"{results_path}/{digit_res_folder}/\"\n"
   ],
   "metadata": {
    "collapsed": false
   }
  },
  {
   "cell_type": "code",
   "execution_count": 7,
   "outputs": [],
   "source": [
    "paths = [\n",
    "retina_lgb_res_path,\n",
    "    xor_lgb_res_path,\n",
    "    digit_lgb_res_path,\n",
    "]\n",
    "tasks = [\n",
    "    'retina_xor',\n",
    "    'xor',\n",
    "    'digits',\n",
    "]\n",
    "logistic_res = pd.DataFrame()\n",
    "for log_loc, t, in zip(paths, tasks):\n",
    "    for file_name in os.listdir(f\"{log_loc}/logistic_regression_results\"):\n",
    "        if 'best.csv' not in file_name:\n",
    "            continue\n",
    "        temp = pd.read_csv(f\"{log_loc}/logistic_regression_results/{file_name}\")\n",
    "        temp['task'] = t\n",
    "        logistic_res = pd.concat([logistic_res, temp], ignore_index=True)"
   ],
   "metadata": {
    "collapsed": false
   }
  },
  {
   "cell_type": "code",
   "execution_count": 8,
   "outputs": [
    {
     "data": {
      "text/plain": "    Unnamed: 0  best ephoc  best mape train  best mape test  best mse train  \\\n0            0         101         0.998934        0.998933        0.000940   \n1            0         186         0.998934        0.998933        0.000940   \n2            0         129         0.998934        0.998933        0.000940   \n3            0          93         0.998934        0.998933        0.000940   \n4            0          60         0.998332        0.998336        0.000628   \n5            0         127         0.998332        0.998336        0.000628   \n6            0          60         0.998332        0.998336        0.000628   \n7            0           5         0.998332        0.998336        0.000628   \n8            0           0         0.998326        0.998313        0.000660   \n9            0           0         0.998345        0.998313        0.000660   \n10           0           0         0.998310        0.998313        0.000660   \n11           0           5         0.998311        0.998313        0.000660   \n\n    best mse test  best r2 train  best r2 test        task  \n0        0.000939    -459.792800   -442.002620  retina_xor  \n1        0.000939    -459.175000   -442.002700  retina_xor  \n2        0.000939    -459.788880   -442.002700  retina_xor  \n3        0.000939    -458.880250   -442.002620  retina_xor  \n4        0.000629     -30.451847    -30.337618         xor  \n5        0.000629     -30.454450    -30.337618         xor  \n6        0.000629     -30.449251    -30.337618         xor  \n7        0.000629     -30.443918    -30.337618         xor  \n8        0.000661     -14.822031    -14.917682      digits  \n9        0.000661     -14.843153    -14.917682      digits  \n10       0.000661     -14.867687    -14.917682      digits  \n11       0.000661     -14.890328    -14.917682      digits  ",
      "text/html": "<div>\n<style scoped>\n    .dataframe tbody tr th:only-of-type {\n        vertical-align: middle;\n    }\n\n    .dataframe tbody tr th {\n        vertical-align: top;\n    }\n\n    .dataframe thead th {\n        text-align: right;\n    }\n</style>\n<table border=\"1\" class=\"dataframe\">\n  <thead>\n    <tr style=\"text-align: right;\">\n      <th></th>\n      <th>Unnamed: 0</th>\n      <th>best ephoc</th>\n      <th>best mape train</th>\n      <th>best mape test</th>\n      <th>best mse train</th>\n      <th>best mse test</th>\n      <th>best r2 train</th>\n      <th>best r2 test</th>\n      <th>task</th>\n    </tr>\n  </thead>\n  <tbody>\n    <tr>\n      <th>0</th>\n      <td>0</td>\n      <td>101</td>\n      <td>0.998934</td>\n      <td>0.998933</td>\n      <td>0.000940</td>\n      <td>0.000939</td>\n      <td>-459.792800</td>\n      <td>-442.002620</td>\n      <td>retina_xor</td>\n    </tr>\n    <tr>\n      <th>1</th>\n      <td>0</td>\n      <td>186</td>\n      <td>0.998934</td>\n      <td>0.998933</td>\n      <td>0.000940</td>\n      <td>0.000939</td>\n      <td>-459.175000</td>\n      <td>-442.002700</td>\n      <td>retina_xor</td>\n    </tr>\n    <tr>\n      <th>2</th>\n      <td>0</td>\n      <td>129</td>\n      <td>0.998934</td>\n      <td>0.998933</td>\n      <td>0.000940</td>\n      <td>0.000939</td>\n      <td>-459.788880</td>\n      <td>-442.002700</td>\n      <td>retina_xor</td>\n    </tr>\n    <tr>\n      <th>3</th>\n      <td>0</td>\n      <td>93</td>\n      <td>0.998934</td>\n      <td>0.998933</td>\n      <td>0.000940</td>\n      <td>0.000939</td>\n      <td>-458.880250</td>\n      <td>-442.002620</td>\n      <td>retina_xor</td>\n    </tr>\n    <tr>\n      <th>4</th>\n      <td>0</td>\n      <td>60</td>\n      <td>0.998332</td>\n      <td>0.998336</td>\n      <td>0.000628</td>\n      <td>0.000629</td>\n      <td>-30.451847</td>\n      <td>-30.337618</td>\n      <td>xor</td>\n    </tr>\n    <tr>\n      <th>5</th>\n      <td>0</td>\n      <td>127</td>\n      <td>0.998332</td>\n      <td>0.998336</td>\n      <td>0.000628</td>\n      <td>0.000629</td>\n      <td>-30.454450</td>\n      <td>-30.337618</td>\n      <td>xor</td>\n    </tr>\n    <tr>\n      <th>6</th>\n      <td>0</td>\n      <td>60</td>\n      <td>0.998332</td>\n      <td>0.998336</td>\n      <td>0.000628</td>\n      <td>0.000629</td>\n      <td>-30.449251</td>\n      <td>-30.337618</td>\n      <td>xor</td>\n    </tr>\n    <tr>\n      <th>7</th>\n      <td>0</td>\n      <td>5</td>\n      <td>0.998332</td>\n      <td>0.998336</td>\n      <td>0.000628</td>\n      <td>0.000629</td>\n      <td>-30.443918</td>\n      <td>-30.337618</td>\n      <td>xor</td>\n    </tr>\n    <tr>\n      <th>8</th>\n      <td>0</td>\n      <td>0</td>\n      <td>0.998326</td>\n      <td>0.998313</td>\n      <td>0.000660</td>\n      <td>0.000661</td>\n      <td>-14.822031</td>\n      <td>-14.917682</td>\n      <td>digits</td>\n    </tr>\n    <tr>\n      <th>9</th>\n      <td>0</td>\n      <td>0</td>\n      <td>0.998345</td>\n      <td>0.998313</td>\n      <td>0.000660</td>\n      <td>0.000661</td>\n      <td>-14.843153</td>\n      <td>-14.917682</td>\n      <td>digits</td>\n    </tr>\n    <tr>\n      <th>10</th>\n      <td>0</td>\n      <td>0</td>\n      <td>0.998310</td>\n      <td>0.998313</td>\n      <td>0.000660</td>\n      <td>0.000661</td>\n      <td>-14.867687</td>\n      <td>-14.917682</td>\n      <td>digits</td>\n    </tr>\n    <tr>\n      <th>11</th>\n      <td>0</td>\n      <td>5</td>\n      <td>0.998311</td>\n      <td>0.998313</td>\n      <td>0.000660</td>\n      <td>0.000661</td>\n      <td>-14.890328</td>\n      <td>-14.917682</td>\n      <td>digits</td>\n    </tr>\n  </tbody>\n</table>\n</div>"
     },
     "execution_count": 8,
     "metadata": {},
     "output_type": "execute_result"
    }
   ],
   "source": [
    "logistic_res"
   ],
   "metadata": {
    "collapsed": false
   }
  },
  {
   "cell_type": "code",
   "execution_count": 31,
   "outputs": [],
   "source": [
    "paths = [\n",
    "retina_lgb_res_path,\n",
    "    xor_lgb_res_path,\n",
    "    digit_lgb_res_path,\n",
    "]\n",
    "tasks = [\n",
    "    'retina_xor',\n",
    "    'xor',\n",
    "    'digits',\n",
    "]\n",
    "small_nn_res = pd.DataFrame()\n",
    "for log_loc, t, in zip(paths, tasks):\n",
    "    for file_name in os.listdir(f\"{log_loc}/small_nn_reg\"):\n",
    "        if 'best.csv' not in file_name:\n",
    "            continue\n",
    "        temp = pd.read_csv(f\"{log_loc}/small_nn_reg/{file_name}\")\n",
    "        temp['task'] = t\n",
    "        temp['file_name'] = file_name\n",
    "        small_nn_res = pd.concat([small_nn_res, temp], ignore_index=True)"
   ],
   "metadata": {
    "collapsed": false
   }
  },
  {
   "cell_type": "code",
   "execution_count": 32,
   "outputs": [
    {
     "data": {
      "text/plain": "    Unnamed: 0  best ephoc  best mape train  best mape test  best mse train  \\\n0            0         499         0.011714        0.013018        0.000015   \n1            0         476         0.012095        0.013038        0.000016   \n2            0         489         0.012953        0.013443        0.000017   \n3            0         492         0.013536        0.014200        0.000017   \n4            0         497         0.011466        0.012761        0.000015   \n5            0         358         0.038783        0.039481        0.000044   \n6            0         498         0.010607        0.011239        0.000009   \n7            0         496         0.012488        0.012709        0.000011   \n8            0         115         0.150454        0.149891        0.000138   \n9            0         481         0.010710        0.012281        0.000009   \n10           0         484         0.012072        0.013197        0.000011   \n11           0         475         0.011272        0.011501        0.000010   \n12           0         256         0.018086        0.020102        0.000013   \n13           0         301         0.018121        0.020681        0.000013   \n14           0         753         0.053526        0.054402        0.000039   \n15           0          40         0.257122        0.253728        0.000207   \n16           0         253         0.024719        0.026602        0.000018   \n17           0         207         0.018144        0.020299        0.000013   \n\n    best mse test  best r2 train  best r2 test        task  \\\n0        0.000017       0.882399      0.855252  retina_xor   \n1        0.000017       0.874550      0.856351  retina_xor   \n2        0.000017       0.857004      0.848249  retina_xor   \n3        0.000018       0.842892      0.831762  retina_xor   \n4        0.000017       0.884368      0.860770  retina_xor   \n5        0.000045      -0.002266     -0.001730  retina_xor   \n6        0.000010       0.993260      0.992284         xor   \n7        0.000011       0.990424      0.990097         xor   \n8        0.000132      -0.525267     -0.369130         xor   \n9        0.000011       0.993045      0.990865         xor   \n10       0.000012       0.990848      0.989068         xor   \n11       0.000010       0.992292      0.991936         xor   \n12       0.000015       0.993456      0.992013      digits   \n13       0.000015       0.993607      0.991540      digits   \n14       0.000040       0.943203      0.940242      digits   \n15       0.000196      -0.563910     -0.396669      digits   \n16       0.000020       0.988032      0.986021      digits   \n17       0.000015       0.993577      0.991892      digits   \n\n                                            file_name  \n0   retina_xor_2023-12-18-20-04-57_lr_0.001_bs_512...  \n1   retina_xor_2023-12-16-13-52-02_lr_0.001_bs_512...  \n2   retina_xor_2023-12-17-12-07-03_lr_0.001_bs_512...  \n3   retina_xor_2023-12-18-20-19-50_lr_0.001_bs_512...  \n4   retina_xor_2023-12-18-20-10-13_lr_0.001_bs_512...  \n5   retina_xor_2023-12-18-20-24-17_lr_0.001_bs_512...  \n6   xor_2023-12-16-13-52-01_lr_0.001_bs_512_output...  \n7   xor_2023-12-18-20-19-58_lr_0.001_bs_512_output...  \n8   xor_2023-12-18-20-24-38_lr_0.001_bs_512_output...  \n9   xor_2023-12-18-20-10-40_lr_0.001_bs_512_output...  \n10  xor_2023-12-18-20-04-28_lr_0.001_bs_512_output...  \n11  xor_2023-12-17-12-07-18_lr_0.001_bs_512_output...  \n12  digits_2023-12-16-13-50-00_lr_0.001_bs_512_out...  \n13  digits_2023-12-18-20-19-57_lr_0.001_bs_512_out...  \n14  digits_2023-12-18-20-04-22_lr_0.001_bs_512_out...  \n15  digits_2023-12-18-20-24-23_lr_0.001_bs_512_out...  \n16  digits_2023-12-18-20-10-23_lr_0.001_bs_512_out...  \n17  digits_2023-12-17-12-07-32_lr_0.001_bs_512_out...  ",
      "text/html": "<div>\n<style scoped>\n    .dataframe tbody tr th:only-of-type {\n        vertical-align: middle;\n    }\n\n    .dataframe tbody tr th {\n        vertical-align: top;\n    }\n\n    .dataframe thead th {\n        text-align: right;\n    }\n</style>\n<table border=\"1\" class=\"dataframe\">\n  <thead>\n    <tr style=\"text-align: right;\">\n      <th></th>\n      <th>Unnamed: 0</th>\n      <th>best ephoc</th>\n      <th>best mape train</th>\n      <th>best mape test</th>\n      <th>best mse train</th>\n      <th>best mse test</th>\n      <th>best r2 train</th>\n      <th>best r2 test</th>\n      <th>task</th>\n      <th>file_name</th>\n    </tr>\n  </thead>\n  <tbody>\n    <tr>\n      <th>0</th>\n      <td>0</td>\n      <td>499</td>\n      <td>0.011714</td>\n      <td>0.013018</td>\n      <td>0.000015</td>\n      <td>0.000017</td>\n      <td>0.882399</td>\n      <td>0.855252</td>\n      <td>retina_xor</td>\n      <td>retina_xor_2023-12-18-20-04-57_lr_0.001_bs_512...</td>\n    </tr>\n    <tr>\n      <th>1</th>\n      <td>0</td>\n      <td>476</td>\n      <td>0.012095</td>\n      <td>0.013038</td>\n      <td>0.000016</td>\n      <td>0.000017</td>\n      <td>0.874550</td>\n      <td>0.856351</td>\n      <td>retina_xor</td>\n      <td>retina_xor_2023-12-16-13-52-02_lr_0.001_bs_512...</td>\n    </tr>\n    <tr>\n      <th>2</th>\n      <td>0</td>\n      <td>489</td>\n      <td>0.012953</td>\n      <td>0.013443</td>\n      <td>0.000017</td>\n      <td>0.000017</td>\n      <td>0.857004</td>\n      <td>0.848249</td>\n      <td>retina_xor</td>\n      <td>retina_xor_2023-12-17-12-07-03_lr_0.001_bs_512...</td>\n    </tr>\n    <tr>\n      <th>3</th>\n      <td>0</td>\n      <td>492</td>\n      <td>0.013536</td>\n      <td>0.014200</td>\n      <td>0.000017</td>\n      <td>0.000018</td>\n      <td>0.842892</td>\n      <td>0.831762</td>\n      <td>retina_xor</td>\n      <td>retina_xor_2023-12-18-20-19-50_lr_0.001_bs_512...</td>\n    </tr>\n    <tr>\n      <th>4</th>\n      <td>0</td>\n      <td>497</td>\n      <td>0.011466</td>\n      <td>0.012761</td>\n      <td>0.000015</td>\n      <td>0.000017</td>\n      <td>0.884368</td>\n      <td>0.860770</td>\n      <td>retina_xor</td>\n      <td>retina_xor_2023-12-18-20-10-13_lr_0.001_bs_512...</td>\n    </tr>\n    <tr>\n      <th>5</th>\n      <td>0</td>\n      <td>358</td>\n      <td>0.038783</td>\n      <td>0.039481</td>\n      <td>0.000044</td>\n      <td>0.000045</td>\n      <td>-0.002266</td>\n      <td>-0.001730</td>\n      <td>retina_xor</td>\n      <td>retina_xor_2023-12-18-20-24-17_lr_0.001_bs_512...</td>\n    </tr>\n    <tr>\n      <th>6</th>\n      <td>0</td>\n      <td>498</td>\n      <td>0.010607</td>\n      <td>0.011239</td>\n      <td>0.000009</td>\n      <td>0.000010</td>\n      <td>0.993260</td>\n      <td>0.992284</td>\n      <td>xor</td>\n      <td>xor_2023-12-16-13-52-01_lr_0.001_bs_512_output...</td>\n    </tr>\n    <tr>\n      <th>7</th>\n      <td>0</td>\n      <td>496</td>\n      <td>0.012488</td>\n      <td>0.012709</td>\n      <td>0.000011</td>\n      <td>0.000011</td>\n      <td>0.990424</td>\n      <td>0.990097</td>\n      <td>xor</td>\n      <td>xor_2023-12-18-20-19-58_lr_0.001_bs_512_output...</td>\n    </tr>\n    <tr>\n      <th>8</th>\n      <td>0</td>\n      <td>115</td>\n      <td>0.150454</td>\n      <td>0.149891</td>\n      <td>0.000138</td>\n      <td>0.000132</td>\n      <td>-0.525267</td>\n      <td>-0.369130</td>\n      <td>xor</td>\n      <td>xor_2023-12-18-20-24-38_lr_0.001_bs_512_output...</td>\n    </tr>\n    <tr>\n      <th>9</th>\n      <td>0</td>\n      <td>481</td>\n      <td>0.010710</td>\n      <td>0.012281</td>\n      <td>0.000009</td>\n      <td>0.000011</td>\n      <td>0.993045</td>\n      <td>0.990865</td>\n      <td>xor</td>\n      <td>xor_2023-12-18-20-10-40_lr_0.001_bs_512_output...</td>\n    </tr>\n    <tr>\n      <th>10</th>\n      <td>0</td>\n      <td>484</td>\n      <td>0.012072</td>\n      <td>0.013197</td>\n      <td>0.000011</td>\n      <td>0.000012</td>\n      <td>0.990848</td>\n      <td>0.989068</td>\n      <td>xor</td>\n      <td>xor_2023-12-18-20-04-28_lr_0.001_bs_512_output...</td>\n    </tr>\n    <tr>\n      <th>11</th>\n      <td>0</td>\n      <td>475</td>\n      <td>0.011272</td>\n      <td>0.011501</td>\n      <td>0.000010</td>\n      <td>0.000010</td>\n      <td>0.992292</td>\n      <td>0.991936</td>\n      <td>xor</td>\n      <td>xor_2023-12-17-12-07-18_lr_0.001_bs_512_output...</td>\n    </tr>\n    <tr>\n      <th>12</th>\n      <td>0</td>\n      <td>256</td>\n      <td>0.018086</td>\n      <td>0.020102</td>\n      <td>0.000013</td>\n      <td>0.000015</td>\n      <td>0.993456</td>\n      <td>0.992013</td>\n      <td>digits</td>\n      <td>digits_2023-12-16-13-50-00_lr_0.001_bs_512_out...</td>\n    </tr>\n    <tr>\n      <th>13</th>\n      <td>0</td>\n      <td>301</td>\n      <td>0.018121</td>\n      <td>0.020681</td>\n      <td>0.000013</td>\n      <td>0.000015</td>\n      <td>0.993607</td>\n      <td>0.991540</td>\n      <td>digits</td>\n      <td>digits_2023-12-18-20-19-57_lr_0.001_bs_512_out...</td>\n    </tr>\n    <tr>\n      <th>14</th>\n      <td>0</td>\n      <td>753</td>\n      <td>0.053526</td>\n      <td>0.054402</td>\n      <td>0.000039</td>\n      <td>0.000040</td>\n      <td>0.943203</td>\n      <td>0.940242</td>\n      <td>digits</td>\n      <td>digits_2023-12-18-20-04-22_lr_0.001_bs_512_out...</td>\n    </tr>\n    <tr>\n      <th>15</th>\n      <td>0</td>\n      <td>40</td>\n      <td>0.257122</td>\n      <td>0.253728</td>\n      <td>0.000207</td>\n      <td>0.000196</td>\n      <td>-0.563910</td>\n      <td>-0.396669</td>\n      <td>digits</td>\n      <td>digits_2023-12-18-20-24-23_lr_0.001_bs_512_out...</td>\n    </tr>\n    <tr>\n      <th>16</th>\n      <td>0</td>\n      <td>253</td>\n      <td>0.024719</td>\n      <td>0.026602</td>\n      <td>0.000018</td>\n      <td>0.000020</td>\n      <td>0.988032</td>\n      <td>0.986021</td>\n      <td>digits</td>\n      <td>digits_2023-12-18-20-10-23_lr_0.001_bs_512_out...</td>\n    </tr>\n    <tr>\n      <th>17</th>\n      <td>0</td>\n      <td>207</td>\n      <td>0.018144</td>\n      <td>0.020299</td>\n      <td>0.000013</td>\n      <td>0.000015</td>\n      <td>0.993577</td>\n      <td>0.991892</td>\n      <td>digits</td>\n      <td>digits_2023-12-17-12-07-32_lr_0.001_bs_512_out...</td>\n    </tr>\n  </tbody>\n</table>\n</div>"
     },
     "execution_count": 32,
     "metadata": {},
     "output_type": "execute_result"
    }
   ],
   "source": [
    "small_nn_res"
   ],
   "metadata": {
    "collapsed": false
   }
  },
  {
   "cell_type": "code",
   "execution_count": null,
   "outputs": [],
   "source": [],
   "metadata": {
    "collapsed": false
   }
  }
 ],
 "metadata": {
  "kernelspec": {
   "display_name": "Python 3",
   "language": "python",
   "name": "python3"
  },
  "language_info": {
   "codemirror_mode": {
    "name": "ipython",
    "version": 2
   },
   "file_extension": ".py",
   "mimetype": "text/x-python",
   "name": "python",
   "nbconvert_exporter": "python",
   "pygments_lexer": "ipython2",
   "version": "2.7.6"
  }
 },
 "nbformat": 4,
 "nbformat_minor": 0
}

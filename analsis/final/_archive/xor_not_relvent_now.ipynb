{
 "cells": [
  {
   "cell_type": "code",
   "execution_count": null,
   "outputs": [],
   "source": [
    "import numpy as np\n",
    "import pandas as pd\n",
    "import matplotlib.pyplot as plt\n",
    "from datetime import datetime as dt\n",
    "import os\n",
    "import textwrap\n",
    "import seaborn as sns\n",
    "\n",
    "COLORS = ['#4F6272', '#B7C3F3', '#DD7596', '#8EB897', '#f6bd60', '#e76f51', '#2a9d8f', \"#c77dff\", \"#f7d6e0\"]\n",
    "\n",
    "rads = [\"#ea5545\", \"#e1a692\", \"#DD7596\", '#9A3B3B', \"#b30000\"]\n",
    "maroon = [\"#900c3f\", \"#c70039\", '#900c3f']\n",
    "COLORS_20 = ['#e6194b', '#3cb44b', '#ffe119', '#4363d8', '#f58231', '#911eb4', '#46f0f0', '#f032e6', '#bcf60c', '#fabebe', '#008080', '#e6beff', '#9a6324', '#fffac8', '#800000', '#aaffc3', '#808000', '#ffd8b1', '#000075', '#808080', '#ffffff', '#000000']\n",
    "semi_balck = '#4F6272'\n"
   ],
   "metadata": {
    "collapsed": false
   }
  },
  {
   "cell_type": "code",
   "execution_count": null,
   "outputs": [],
   "source": [
    "results_path = \"/Volumes/noamaz/modularity/xor/\"\n",
    "local_base_path = '/Users/noamazmon/PycharmProjects/network_modularity'\n",
    "task_name = 'XOR'\n",
    "task = \"xor\"\n",
    "num_layers = \"4\"\n",
    "time_str = dt.now().strftime(\"%Y-%m-%d-%H-%M-%S\")\n",
    "res_folder = f\"{task}_{num_layers}_layers\"\n",
    "plot_path = f\"{local_base_path}/plots/xor_multi_arch/{res_folder}\"\n",
    "first_analsis_res_folder = f\"{results_path}/{res_folder}/first_analysis_results\"\n",
    "first_analsis_file_name = \"2023-11-16-14-52-18_all_results_from_teach_archs_results_with_motifs_5000_ep_no_duplicates.csv\"\n",
    "lgbm_folder_name = 'exp_2023-11-16-17-38-02_nice_features'\n",
    "\n",
    "lgb_res_path = f\"{results_path}/{res_folder}/lightgbm_feature_selection/{lgbm_folder_name}\"\n",
    "lgb_res_nn_path = f\"{lgb_res_path}/teach_archs_regression_feature_selection_results\"\n",
    "n_features = 5\n",
    "corrlated_features_values = pd.read_csv(f\"/Volumes/noamaz/modularity/xor/xor_4_layers/feature_correlation/2023-11-17-11-50-45_all_data.csv\")\n",
    "correlated_features_csv_name = '2023-11-17-11-50-45_feature_correlation.csv'\n",
    "correlated_features = pd.read_csv(f\"{results_path}/{res_folder}/feature_correlation/{correlated_features_csv_name}\",\n",
    "                                  index_col=0)"
   ],
   "metadata": {
    "collapsed": false
   }
  },
  {
   "cell_type": "code",
   "execution_count": null,
   "outputs": [],
   "source": [
    "plt.show()\n",
    "orignaly_chosen_features_values = pd.read_csv(f\"{lgb_res_path}/{n_features}_feature_values.csv\").drop(\"Unnamed: 0\",\n",
    "                                                                                                      axis=1)\n",
    "originaly_selected_feature_names = list(orignaly_chosen_features_values.columns)[:-1]\n",
    "correlated_features = pd.read_csv(f\"{results_path}/{res_folder}/feature_correlation/{correlated_features_csv_name}\",\n",
    "                                  index_col=0)\n",
    "corrlated_selected_feature_names = [\n",
    "    correlated_features[feature].drop(index=feature).idxmax()\n",
    "    for feature in originaly_selected_feature_names\n",
    "]"
   ],
   "metadata": {
    "collapsed": false
   }
  },
  {
   "cell_type": "code",
   "execution_count": null,
   "outputs": [],
   "source": [
    "num_columns = int(np.ceil(len(originaly_selected_feature_names) / 2))\n",
    "fig, axs = plt.subplots(num_columns, 2, figsize=(12, 16), )\n",
    "min_x = 1.0\n",
    "max_x = 0\n",
    "idxs = []\n",
    "r, c, = axs.shape\n",
    "for i in range(r):\n",
    "    for j in range(c):\n",
    "        idxs.append((i, j))\n",
    "for k, (origin_f_name, coor_f_name, (i, j)) in enumerate(\n",
    "        zip(originaly_selected_feature_names, corrlated_selected_feature_names, idxs)):\n",
    "    correlation_val = round(correlated_features[origin_f_name].loc[coor_f_name], 3)\n",
    "    x_data = corrlated_features_values[origin_f_name]\n",
    "    y_data =  corrlated_features_values[coor_f_name]\n",
    "    axs[i, j].scatter(x_data + np.random.normal(scale = 0.2, size = x_data.shape[0]),y_data +  np.random.normal(scale = 0.5, size = y_data.shape[0]),\n",
    "                      color=COLORS[2], s=0.2)\n",
    "    axs[i, j].set_xlabel(textwrap.fill(origin_f_name.replace ('_', ' '), width=30,\n",
    "                      break_long_words=False), fontsize=12)\n",
    "    axs[i, j].set_ylabel(textwrap.fill(coor_f_name.replace ('_', ' '), width=30,\n",
    "                      break_long_words=False), fontsize=12)\n",
    "    axs[i, j].set_title(f'Correlation value {correlation_val}')\n",
    "    axs[i, j].tick_params(axis='x', labelsize=12)\n",
    "    axs[i, j].tick_params(axis='y', labelsize=12)\n",
    "plt.suptitle(f\"The distribution of selected features as a function of the feature most correlated with it - noise added\")\n",
    "plt.tight_layout()\n",
    "plt.savefig(\n",
    "    f\"{plot_path}/{time_str}_{task}_{n_features}_noise_correlated_features_dist.png\")\n",
    "plt.show()"
   ],
   "metadata": {
    "collapsed": false
   }
  },
  {
   "cell_type": "code",
   "execution_count": null,
   "outputs": [],
   "source": [
    "lgb_res_small_nn_path = f\"{results_path}/{res_folder}/lightgbm_feature_selection/{lgbm_folder_name}/teach_archs_regression_feature_selection_results_small_ann\"\n",
    "num_features = []\n",
    "feature_selection_small_ann_res = pd.DataFrame()\n",
    "for file_name in os.listdir(lgb_res_small_nn_path):\n",
    "    if 'best.csv' not in file_name:\n",
    "        continue\n",
    "    temp = pd.read_csv(f\"{lgb_res_small_nn_path}/{file_name}\")\n",
    "    temp['num_features'] = int(file_name.split('only_')[1].split('_features')[0])\n",
    "    feature_selection_small_ann_res = pd.concat([feature_selection_small_ann_res, temp], ignore_index=True)\n",
    "feature_selection_small_ann_res = feature_selection_small_ann_res.sort_values('num_features')\n",
    "plt.plot(feature_selection_small_ann_res['num_features'], feature_selection_small_ann_res['best mape train'],\n",
    "         label='train', c=rads[2])\n",
    "plt.plot(feature_selection_small_ann_res['num_features'], feature_selection_small_ann_res['best mape test'],\n",
    "         label='test', c=rads[3])\n",
    "\n",
    "plt.xlabel('number of features', fontsize=12)\n",
    "plt.ylabel(f'Mean absolute percentage error', fontsize=12)\n",
    "plt.legend()\n",
    "plt.title(\n",
    "    f\"Prediction of an ANN based on structural features {task.capitalize()}\",\n",
    "    wrap=True, fontsize=12)\n",
    "plt.yticks(fontsize=11)\n",
    "plt.xticks(fontsize=11)\n",
    "plt.tight_layout()\n",
    "plt.savefig(\n",
    "    f\"{plot_path}/{time_str}_{task}_nn_feature_selection_r2_mape_small_ann.png\")\n",
    "plt.show()\n",
    "fig, (ax1, ax2) = plt.subplots(1, 2, figsize=(7, 6), sharex='all', sharey='all')\n",
    "max_y = max((feature_selection_res['best mape test'].max(), feature_selection_res['best mape train'].max(),\n",
    "             feature_selection_small_ann_res['best mape test'].max(),\n",
    "             feature_selection_small_ann_res['best mape train'].max()))\n",
    "min_y = min((feature_selection_res['best mape test'].min(), feature_selection_res['best mape train'].min(),\n",
    "             feature_selection_small_ann_res['best mape test'].min(),\n",
    "             feature_selection_small_ann_res['best mape train'].min()))\n",
    "ax1.vlines(ymax=max_y, x=n_features, ymin=min_y, color='grey', linestyles='--', alpha=0.8)\n",
    "ax2.vlines(ymax=max_y, x=n_features, ymin=min_y, color='grey', linestyles='--', alpha=0.8)\n",
    "ax1.plot(feature_selection_small_ann_res['num_features'], feature_selection_small_ann_res['best mape train'],\n",
    "         label='samll ANN', c=rads[2])\n",
    "ax1.plot(feature_selection_res['num_features'], feature_selection_res['best mape train'], label='big ANN', c=rads[3])\n",
    "ax2.plot(feature_selection_small_ann_res['num_features'], feature_selection_small_ann_res['best mape test'],\n",
    "         label='samll ANN', c=rads[2])\n",
    "ax2.plot(feature_selection_res['num_features'], feature_selection_res['best mape test'], label='big ANN', c=rads[3])\n",
    "\n",
    "ax1.set_xlabel('number of features', fontsize=12)\n",
    "ax2.set_xlabel('number of features', fontsize=12)\n",
    "ax1.set_ylabel(f'Mean absolute percentage error', fontsize=12)\n",
    "ax1.set_title('train data')\n",
    "ax2.set_title('test data')\n",
    "ax1.legend()\n",
    "ax2.legend()\n",
    "plt.suptitle(\n",
    "    f\"Prediction of an ANN based on structural features {task.capitalize()}\",\n",
    "    wrap=True, fontsize=16)\n",
    "plt.yticks(fontsize=11)\n",
    "plt.xticks(fontsize=11)\n",
    "plt.tight_layout()\n",
    "plt.savefig(\n",
    "    f\"{plot_path}/{time_str}_{task}_nn_feature_selection_r2_mape_big_vs_smal_ann.png\")\n",
    "plt.show()\n"
   ],
   "metadata": {
    "collapsed": false
   }
  }
 ],
 "metadata": {
  "kernelspec": {
   "display_name": "Python 3",
   "language": "python",
   "name": "python3"
  },
  "language_info": {
   "codemirror_mode": {
    "name": "ipython",
    "version": 2
   },
   "file_extension": ".py",
   "mimetype": "text/x-python",
   "name": "python",
   "nbconvert_exporter": "python",
   "pygments_lexer": "ipython2",
   "version": "2.7.6"
  }
 },
 "nbformat": 4,
 "nbformat_minor": 0
}

{
 "cells": [
  {
   "cell_type": "code",
   "execution_count": null,
   "metadata": {
    "collapsed": true
   },
   "outputs": [],
   "source": [
    "import numpy as np\n",
    "import pandas as pd\n",
    "import matplotlib.pyplot as plt\n",
    "from datetime import datetime as dt\n",
    "import os\n",
    "import textwrap\n",
    "import seaborn as sns\n",
    "\n",
    "blues = [\"#0d88e6\", \"#8ECDDD\", \"#22668D\", \"#42d4f4\", ]\n",
    "COLORS_20 = ['#e6194b', '#3cb44b', '#ffe119', '#4363d8', '#f58231', '#911eb4', '#46f0f0', '#f032e6', '#bcf60c',\n",
    "             '#fabebe', '#008080', '#e6beff', '#9a6324', '#fffac8', '#800000', '#aaffc3', '#808000', '#ffd8b1',\n",
    "             '#000075', '#808080', '#ffffff', '#000000']\n",
    "semi_balck = '#4F6272'"
   ]
  },
  {
   "cell_type": "code",
   "execution_count": null,
   "outputs": [],
   "source": [
    "import matplotlib\n",
    "plt.rcParams.update(matplotlib.rcParamsDefault)"
   ],
   "metadata": {
    "collapsed": false
   }
  },
  {
   "cell_type": "code",
   "execution_count": null,
   "outputs": [],
   "source": [
    "results_path = \"/Volumes/noamaz/modularity/retina_xor/\"\n",
    "local_base_path = '/Users/noamazmon/PycharmProjects/network_modularity'\n",
    "\n",
    "task = \"retina\"\n",
    "num_layers = '3'\n",
    "n_features =6\n",
    "time_str = dt.now().strftime(\"%Y-%m-%d-%H-%M-%S\")\n",
    "res_folder = f\"retina_{num_layers}_layers\"\n",
    "plot_path = f\"{local_base_path}/plots/retina_xor_multi_arch/{res_folder}\""
   ],
   "metadata": {
    "collapsed": false
   }
  },
  {
   "cell_type": "code",
   "execution_count": null,
   "outputs": [],
   "source": [
    "first_analsis_res_folder = f\"{results_path}/{res_folder}/first_analysis_results\"\n",
    "first_analsis_file_name = f\"2023-10-24-10-00-54_all_results_from_teach_archs_results_with_motifs_5000_ep_no_duplicates.csv\""
   ],
   "metadata": {
    "collapsed": false
   }
  },
  {
   "cell_type": "code",
   "execution_count": null,
   "outputs": [],
   "source": [
    "lgbm_folder_name = 'exp_2023-11-27-14-40-47_nice_features'\n",
    "lgb_res_path = f\"{results_path}/{res_folder}/lightgbm_feature_selection/{lgbm_folder_name}\"\n",
    "lgb_res_nn_path = f\"{lgb_res_path}/teach_archs_regression_feature_selection_results\""
   ],
   "metadata": {
    "collapsed": false
   }
  },
  {
   "cell_type": "code",
   "execution_count": null,
   "outputs": [],
   "source": [
    "corrlated_features_values = pd.read_csv(\n",
    "    f\"{results_path}/{res_folder}/feature_correlation/2023-11-28-16-07-16_all_data.csv\")\n",
    "correlated_features_csv_name = \"2023-11-28-13-17-26_feature_correlation.csv\"\n",
    "correlated_features = pd.read_csv(f\"{results_path}/{res_folder}/feature_correlation/{correlated_features_csv_name}\",\n",
    "                                  index_col=0)"
   ],
   "metadata": {
    "collapsed": false
   }
  },
  {
   "cell_type": "code",
   "execution_count": null,
   "outputs": [],
   "source": [
    "first_analsis = pd.read_csv(f\"{first_analsis_res_folder}/{first_analsis_file_name}\").rename(\n",
    "    columns={'connectivity_ratio': 'density',\n",
    "             }).sort_values('mean_performance', ascending=False)\n",
    "first_analsis.shape"
   ],
   "metadata": {
    "collapsed": false
   }
  },
  {
   "cell_type": "code",
   "execution_count": null,
   "outputs": [],
   "source": [
    "x_metric_name = 'density'\n",
    "y_metric_name = 'mean_performance'\n",
    "\n",
    "x_data = first_analsis[x_metric_name]\n",
    "means_y = []\n",
    "mean_x = []\n",
    "for x in sorted(first_analsis[x_metric_name].unique()):\n",
    "    means_y.append(first_analsis[y_metric_name][x_data == x].mean())\n",
    "    mean_x.append(x)\n",
    "#x_data = x_data + np.random.normal(-0.008, 0.008, x_data.shape[0])\n",
    "plt.scatter(x_data, first_analsis[y_metric_name], c=blues[1], s=0.5, label='architecture mean performance')\n",
    "\n",
    "plt.plot(mean_x, means_y, c=blues[2], label='mean over density')\n",
    "plt.legend()\n",
    "plt.ylabel(\"Network's mean performance\", fontsize=16)\n",
    "plt.xlabel('Density', fontsize=16)\n",
    "plt.yticks(fontsize=11)\n",
    "plt.xticks(fontsize=11)\n",
    "plt.title(\n",
    "    f\"{task.capitalize()}\",\n",
    "    wrap=True, fontsize=16)\n",
    "plt.tight_layout()\n",
    "plt.savefig(\n",
    "    f\"{plot_path}/{time_str}_{task}_{y_metric_name}_vs_{x_metric_name}.png\")\n",
    "plt.show()"
   ],
   "metadata": {
    "collapsed": false
   }
  },
  {
   "cell_type": "code",
   "execution_count": null,
   "outputs": [],
   "source": [
    "plt.hist(first_analsis['mean_performance'], color=blues[1], bins=30)\n",
    "plt.xlabel('Mean performance', fontsize=16)\n",
    "plt.ylabel('Number of networks', fontsize=16)\n",
    "plt.yticks(fontsize=11)\n",
    "plt.xticks(fontsize=11)\n",
    "#plt.title(f\"{task.capitalize()}\", fontsize=14)\n",
    "plt.tight_layout()\n",
    "plt.savefig(\n",
    "    f\"{plot_path}/{time_str}_{task}_mean_performance_hist.png\")\n",
    "plt.show()"
   ],
   "metadata": {
    "collapsed": false
   }
  },
  {
   "cell_type": "code",
   "execution_count": null,
   "outputs": [],
   "source": [
    "neurons_feature_names = [f'neurons_in_layer_{i}' for i in range(1, int(num_layers))]\n",
    "dims = [f\"{i}_{j}\" for i, j, in first_analsis[neurons_feature_names].values.tolist()]\n",
    "dims.sort()\n",
    "dims_to_num = {\n",
    "    dim: i + 1\n",
    "    for i, dim in enumerate(set(dims))\n",
    "}\n",
    "first_analsis['dims'] = dims"
   ],
   "metadata": {
    "collapsed": false
   }
  },
  {
   "cell_type": "code",
   "execution_count": null,
   "outputs": [],
   "source": [
    "plt.hist(first_analsis['dims'], color=blues[1], bins=len(set(dims)), align='mid', rwidth=0.95)\n",
    "plt.xticks(rotation=45)\n",
    "plt.xlabel('dimensions', fontsize=14)\n",
    "plt.ylabel('Number of networks', fontsize=14)\n",
    "#axs[k].set_xlabel(f_name,  fontsize=14)\n",
    "plt.tight_layout()\n",
    "plt.savefig(\n",
    "    f\"{plot_path}/{time_str}_{task}_dims_hist.png\")\n",
    "plt.show()"
   ],
   "metadata": {
    "collapsed": false
   }
  },
  {
   "cell_type": "code",
   "execution_count": null,
   "outputs": [],
   "source": [
    "selected_features_res = pd.read_csv(f\"{lgb_res_path}/6_feature_values.csv\").drop(\"Unnamed: 0\", axis=1)"
   ],
   "metadata": {
    "collapsed": false
   }
  },
  {
   "cell_type": "code",
   "execution_count": null,
   "outputs": [],
   "source": [
    "selected_feature_names = list(selected_features_res.columns)[:-1]"
   ],
   "metadata": {
    "collapsed": false
   }
  },
  {
   "cell_type": "code",
   "execution_count": null,
   "outputs": [],
   "source": [
    "num_columns = int(np.ceil(len(selected_feature_names) / 3))\n",
    "fig, axs = plt.subplots(num_columns, 3, figsize=(12, 10), sharey='all')\n",
    "min_x = 1.0\n",
    "max_x = 0\n",
    "idxs = []\n",
    "r, c, = axs.shape\n",
    "for i in range(r):\n",
    "    for j in range(c):\n",
    "        idxs.append((i, j))\n",
    "for k, (f_name, (i, j)) in enumerate(zip(selected_feature_names, idxs)):\n",
    "    x_data = selected_features_res[f_name]\n",
    "    # if  len(set(res[f_name])) < 15:\n",
    "    #     x_data = x_data + np.random.normal(-0.1, 0.1, len(x_data))\n",
    "    axs[i, j].scatter(x_data, selected_features_res['label'],c=blues[1], s=0.5)\n",
    "    if 'per_input' in f_name:\n",
    "        neuron = f_name.split('(')[1].split(' ')[1].split(')')[0]\n",
    "        f_name = f_name.split('(')[0].replace('num', '#') + neuron\n",
    "    if len(f_name) > 40:\n",
    "        name = f\"{f_name.replace('_', ' ')[:22]}\\n{f_name.replace('_', ' ')[22:]}\"\n",
    "    else:\n",
    "        name = f\"{f_name.replace('_', ' ')}\"\n",
    "    axs[i, j].set_xlabel(f\"{name.capitalize()}\", fontsize=18)\n",
    "    #axs[i, j].set_ylim(0,1)\n",
    "    axs[i, j].tick_params(axis='x', labelsize=12)\n",
    "    axs[i, j].tick_params(axis='y', labelsize=12)\n",
    "axs[1, 0].set_ylabel(f\"Mean performance\", fontsize=18)\n",
    "axs[0, 0].set_ylabel(f\"Mean performance\", fontsize=18)\n",
    "plt.tight_layout()\n",
    "plt.savefig(\n",
    "    f\"{plot_path}/{time_str}_{task}_six_fetaures_dist.png\")\n"
   ],
   "metadata": {
    "collapsed": false
   }
  },
  {
   "cell_type": "code",
   "execution_count": null,
   "outputs": [],
   "source": [],
   "metadata": {
    "collapsed": false
   }
  },
  {
   "cell_type": "code",
   "execution_count": null,
   "outputs": [],
   "source": [
    "for file in os.listdir(f\"{results_path}/{res_folder}/lightgbm_feature_selection/{lgbm_folder_name}\"):\n",
    "    if 'feature_selectio' in file:\n",
    "        feature_selection = pd.read_csv(f\"{first_analsis_res_folder}/{first_analsis_file_name}\")\n",
    "lgb_res_nn_path = f\"{results_path}/{res_folder}/lightgbm_feature_selection/{lgbm_folder_name}/teach_archs_regression_feature_selection_results\"\n",
    "num_features = []\n",
    "feature_selection_res = pd.DataFrame()\n",
    "for file_name in os.listdir(lgb_res_nn_path):\n",
    "    if 'best.csv' not in file_name:\n",
    "        continue\n",
    "    temp = pd.read_csv(f\"{lgb_res_nn_path}/{file_name}\")\n",
    "    temp['num_features'] = int(file_name.split('only_')[1].split('_features')[0])\n",
    "    feature_selection_res = pd.concat([feature_selection_res, temp], ignore_index=True)\n",
    "feature_selection_res = feature_selection_res.sort_values('num_features')"
   ],
   "metadata": {
    "collapsed": false
   }
  },
  {
   "cell_type": "code",
   "execution_count": null,
   "outputs": [],
   "source": [
    "feature_selection_res"
   ],
   "metadata": {
    "collapsed": false
   }
  },
  {
   "cell_type": "code",
   "execution_count": null,
   "outputs": [],
   "source": [
    "max_features_mape =feature_selection_res['best mape test'][feature_selection_res['num_features'] == feature_selection_res['num_features'].max()].item()\n",
    "feature_selection_res['mape_ratio_min'] = feature_selection_res['best mape test'].min() / feature_selection_res['best mape test']\n",
    "feature_selection_res['mape_ops_ratio_min'] = feature_selection_res['best mape test'] / feature_selection_res['best mape test'].min()\n",
    "feature_selection_res['mape_ratio'] = max_features_mape / feature_selection_res['best mape test']\n",
    "feature_selection_res['mape_ops_ratio'] = feature_selection_res['best mape test'] / max_features_mape\n",
    "feature_selection_res[['mape_ratio', 'mape_ops_ratio', 'mape_ratio_min', 'mape_ops_ratio_min','best mape test', 'num_features']]"
   ],
   "metadata": {
    "collapsed": false
   }
  },
  {
   "cell_type": "code",
   "execution_count": null,
   "outputs": [],
   "source": [
    "plt.plot(feature_selection_res['num_features'], feature_selection_res['best mape train'], label='train', c=blues[1])\n",
    "plt.plot(feature_selection_res['num_features'], feature_selection_res['best mape test'], label='test', c=blues[0])\n",
    "\n",
    "plt.xlabel('number of features', fontsize=16)\n",
    "plt.ylabel(f'Mean absolute percentage error', fontsize=16)\n",
    "plt.legend()\n",
    "plt.title(\n",
    "    f\"{task.capitalize()}\",\n",
    "    wrap=True, fontsize=16)\n",
    "plt.yticks(fontsize=11)\n",
    "plt.xticks(fontsize=11)\n",
    "plt.tight_layout()\n",
    "plt.savefig(\n",
    "    f\"{plot_path}/{time_str}_{task}_nn_feature_selection_r2_mape.png\")\n",
    "plt.show()"
   ],
   "metadata": {
    "collapsed": false
   }
  },
  {
   "cell_type": "code",
   "execution_count": null,
   "outputs": [],
   "source": [
    "glob_inds = []\n",
    "feature_selection_res_by_glob = pd.DataFrame()\n",
    "for folder_name in os.listdir(f\"{results_path}/{res_folder}/lightgbm_feature_selection/by_globality\"):\n",
    "    glob_ind = folder_name.split('glob_')[1].replace('_', '.')\n",
    "    glob_inds.append(glob_ind)\n",
    "    lgb_res_nn_path = f\"{results_path}/{res_folder}/lightgbm_feature_selection/by_globality/{folder_name}/teach_archs_regression_feature_selection_results\"\n",
    "    for file_name in os.listdir(lgb_res_nn_path):\n",
    "        if 'best.csv' not in file_name:\n",
    "            continue\n",
    "        temp = pd.read_csv(f\"{lgb_res_nn_path}/{file_name}\")\n",
    "        temp['num_features'] = int(file_name.split('only_')[1].split('_features')[0])\n",
    "        temp['glob_ind'] = glob_ind\n",
    "        feature_selection_res_by_glob = pd.concat([feature_selection_res_by_glob, temp], ignore_index=True)\n",
    "feature_selection_res_by_glob = feature_selection_res_by_glob.sort_values(['glob_ind', 'num_features'])"
   ],
   "metadata": {
    "collapsed": false
   }
  },
  {
   "cell_type": "code",
   "execution_count": null,
   "outputs": [],
   "source": [
    "glob_levels = {\n",
    "    1: \"entire network level\",\n",
    "    0.75: \"layer level\",\n",
    "    0.5: \"multi neuron level\",\n",
    "    0: \"local\"\n",
    "}\n",
    "sorted_blues = [\"#22668D\", \"#0d88e6\", \"#42d4f4\", \"#8ECDDD\", ]\n",
    "fig, (ax1, ax2) = plt.subplots(1, 2, figsize=(7, 6), sharex='all', sharey='all')\n",
    "for i, ind in enumerate(glob_inds[::-1]):\n",
    "    res_per_glob = feature_selection_res_by_glob[feature_selection_res_by_glob['glob_ind'] == ind][\n",
    "        feature_selection_res_by_glob['num_features'] <= 10]\n",
    "    ax1.plot(res_per_glob['num_features'], res_per_glob['best mape train'], label=f\"{glob_levels[float(ind)]}\",\n",
    "             c=sorted_blues[i])\n",
    "    ax2.plot(res_per_glob['num_features'], res_per_glob['best mape test'], label=f\"{glob_levels[float(ind)]}\",\n",
    "             c=sorted_blues[i])\n",
    "small_all_fetaures_selcetion = feature_selection_res[feature_selection_res['num_features'] <= 10]\n",
    "ax1.plot(small_all_fetaures_selcetion['num_features'], small_all_fetaures_selcetion['best mape train'],\n",
    "         label=\"all_data\", c=semi_balck)\n",
    "ax2.plot(small_all_fetaures_selcetion['num_features'], small_all_fetaures_selcetion['best mape test'], label=\"all_data\",\n",
    "         c=semi_balck)\n",
    "ax1.set_xlabel('number of features', fontsize=12)\n",
    "ax1.set_ylabel(f'Mean absolute percentage error', fontsize=12)\n",
    "ax2.set_xlabel('number of features', fontsize=12)\n",
    "ax1.set_xticks(np.arange(small_all_fetaures_selcetion.shape[0] + 1)[::2])\n",
    "ax2.set_xticks(np.arange(small_all_fetaures_selcetion.shape[0] + 1)[::2])\n",
    "\n",
    "#ax2.set_ylabel(f'Mean absolute percentage error', fontsize=12)\n",
    "ax1.legend(title='globality')\n",
    "ax2.legend(title='globality')\n",
    "ax1.set_title('train data')\n",
    "ax2.set_title('test data')\n",
    "plt.suptitle(\n",
    "    f\"Performance of ANN predicting mean performance with feature selection by globality - {task.capitalize()}\",\n",
    "    wrap=True, fontsize=12)\n",
    "plt.yticks(fontsize=11)\n",
    "plt.xticks(fontsize=11)\n",
    "plt.tight_layout()\n",
    "plt.savefig(\n",
    "    f\"{plot_path}/{time_str}_{task}_nn_feature_selection_r2_mape.png\")\n",
    "plt.show()"
   ],
   "metadata": {
    "collapsed": false
   }
  },
  {
   "cell_type": "code",
   "execution_count": null,
   "outputs": [],
   "source": [
    "glob_levels = {\n",
    "    1: \"entire network level\",\n",
    "    0.75: \"layer level\",\n",
    "    0.5: \"multi neuron level\",\n",
    "    0: \"local\"\n",
    "}\n",
    "sorted_blues = [\"#22668D\", \"#0d88e6\", \"#42d4f4\", \"#8ECDDD\", ]\n",
    "fig, (ax1, ax2) = plt.subplots(1, 2, figsize=(7, 6), sharex='all', sharey='all')\n",
    "for i, ind in enumerate(glob_inds[::-1]):\n",
    "    res_per_glob = feature_selection_res_by_glob[feature_selection_res_by_glob['glob_ind'] == ind][\n",
    "        feature_selection_res_by_glob['num_features'] <= 40]\n",
    "    ax1.plot(res_per_glob['num_features'], res_per_glob['best mape train'], label=f\"{glob_levels[float(ind)]}\",\n",
    "             c=sorted_blues[i])\n",
    "    ax2.plot(res_per_glob['num_features'], res_per_glob['best mape test'], label=f\"{glob_levels[float(ind)]}\",\n",
    "             c=sorted_blues[i])\n",
    "small_all_fetaures_selcetion = feature_selection_res[feature_selection_res['num_features'] <= 40]\n",
    "ax1.plot(small_all_fetaures_selcetion['num_features'], small_all_fetaures_selcetion['best mape train'],\n",
    "         label=\"all_data\", c=semi_balck)\n",
    "ax2.plot(small_all_fetaures_selcetion['num_features'], small_all_fetaures_selcetion['best mape test'], label=\"all_data\",\n",
    "         c=semi_balck)\n",
    "ax1.set_xlabel('number of features', fontsize=12)\n",
    "ax1.set_ylabel(f'Mean absolute percentage error', fontsize=12)\n",
    "ax2.set_xlabel('number of features', fontsize=12)\n",
    "#ax1.set_xticks(np.arange(small_all_fetaures_selcetion.shape[0]+1)[::2])\n",
    "#ax2.set_xticks(np.arange(small_all_fetaures_selcetion.shape[0]+1)[::2])\n",
    "\n",
    "#ax2.set_ylabel(f'Mean absolute percentage error', fontsize=12)\n",
    "ax1.legend(title='globality')\n",
    "ax2.legend(title='globality')\n",
    "ax1.set_title('train data')\n",
    "ax2.set_title('test data')\n",
    "plt.suptitle(\n",
    "    f\"Performance of ANN predicting mean performance with feature selection by globality - {task.capitalize()}\",\n",
    "    wrap=True, fontsize=12)\n",
    "plt.yticks(fontsize=11)\n",
    "plt.xticks(fontsize=11)\n",
    "plt.tight_layout()\n",
    "plt.savefig(\n",
    "    f\"{plot_path}/{time_str}_{task}_nn_feature_selection_r2_mape_long.png\")\n",
    "plt.show()"
   ],
   "metadata": {
    "collapsed": false
   }
  },
  {
   "cell_type": "code",
   "execution_count": 12,
   "outputs": [],
   "source": [
    "model_res_path = f\"{results_path}/{res_folder}/lightgbm_feature_selection/{lgbm_folder_name}/6_prediction_results.csv\"\n",
    "model_prediction_res = pd.read_csv(model_res_path)"
   ],
   "metadata": {
    "collapsed": false
   }
  },
  {
   "cell_type": "code",
   "execution_count": 13,
   "outputs": [
    {
     "data": {
      "text/plain": "<Figure size 640x480 with 1 Axes>",
      "image/png": "[encoded data removed]"
     },
     "metadata": {},
     "output_type": "display_data"
    }
   ],
   "source": [
    "plt.scatter(model_prediction_res['test_label'], model_prediction_res['test_pred'], s=10, c=blues[1])\n",
    "start = min(model_prediction_res['test_label'].min(), model_prediction_res['test_pred'].min())\n",
    "stop = max(model_prediction_res['test_label'].max(), model_prediction_res['test_pred'].max())\n",
    "plt.plot(np.linspace(start, stop, 50), np.linspace(start, stop, 50), c=blues[0])\n",
    "plt.ylabel('Predicted mean performance', fontsize=15)\n",
    "plt.xlabel('Actual mean performance', fontsize=15)\n",
    "plt.yticks(fontsize=11)\n",
    "plt.xticks(fontsize=11)\n",
    "plt.title(\n",
    "    f\"{task.capitalize()}, 6 features\",\n",
    "    wrap=True, fontsize=16)\n",
    "plt.tight_layout()\n",
    "plt.savefig(f\"{plot_path}/{time_str}_nn_model_pred_vs_actual.png\")\n",
    "plt.show()"
   ],
   "metadata": {
    "collapsed": false
   }
  },
  {
   "cell_type": "code",
   "execution_count": 14,
   "outputs": [
    {
     "data": {
      "text/plain": "<Figure size 640x480 with 1 Axes>",
      "image/png": "[encoded data removed]"
     },
     "metadata": {},
     "output_type": "display_data"
    }
   ],
   "source": [
    "model_res_path = f\"{results_path}/{res_folder}/lightgbm_feature_selection/{lgbm_folder_name}/72_prediction_results.csv\"\n",
    "model_prediction_res = pd.read_csv(model_res_path)\n",
    "plt.scatter(model_prediction_res['test_label'], model_prediction_res['test_pred'], s=10, c=blues[1])\n",
    "start = min(model_prediction_res['test_label'].min(), model_prediction_res['test_pred'].min())\n",
    "stop = max(model_prediction_res['test_label'].max(), model_prediction_res['test_pred'].max())\n",
    "plt.plot(np.linspace(start, stop, 50), np.linspace(start, stop, 50), c=blues[0])\n",
    "plt.ylabel('Predicted mean performance', fontsize=15)\n",
    "plt.xlabel('Actual mean performance', fontsize=15)\n",
    "plt.yticks(fontsize=11)\n",
    "plt.xticks(fontsize=11)\n",
    "plt.title(\n",
    "    f\"{task.capitalize()}, 72 features\",\n",
    "    wrap=True, fontsize=16)\n",
    "plt.tight_layout()\n",
    "plt.savefig(f\"{plot_path}/{time_str}_nn_model_pred_vs_actual_max.png\")\n",
    "plt.show()"
   ],
   "metadata": {
    "collapsed": false
   }
  },
  {
   "cell_type": "code",
   "execution_count": null,
   "outputs": [],
   "source": [
    "n_features = 6\n",
    "baseline_path = f\"{results_path}/{res_folder}/random_feature_selection/{n_features}_features/teach_archs_regression_random_feature_selection_results\"\n",
    "res_baseline = pd.DataFrame()\n",
    "for file_name in os.listdir(baseline_path):\n",
    "    if '_output_best.csv' not in file_name:\n",
    "        continue\n",
    "    temp = pd.read_csv(f\"{baseline_path}/{file_name}\")\n",
    "    res_baseline = pd.concat([res_baseline, temp], ignore_index=True)"
   ],
   "metadata": {
    "collapsed": false
   }
  },
  {
   "cell_type": "code",
   "execution_count": null,
   "outputs": [],
   "source": [
    "correlated_path = f\"{results_path}/{res_folder}/feature_correlation/{n_features}_features\"\n",
    "for file_name in os.listdir(correlated_path):\n",
    "    if '_output_best.csv' not in file_name:\n",
    "        continue\n",
    "    res_corr = pd.read_csv(f\"{correlated_path}/{file_name}\")"
   ],
   "metadata": {
    "collapsed": false
   }
  },
  {
   "cell_type": "code",
   "execution_count": null,
   "outputs": [],
   "source": [
    "globality_path = f\"{results_path}/{res_folder}/feature_globality/{n_features}_features/teach_archs_regression_feature_selection_results\"\n",
    "globality_baseline_res = pd.DataFrame()\n",
    "for file_name in os.listdir(globality_path):\n",
    "    if '_output_best.csv' not in file_name:\n",
    "        continue\n",
    "    temp = pd.read_csv(f\"{globality_path}/{file_name}\")\n",
    "    globality_baseline_res = pd.concat([globality_baseline_res, temp], ignore_index=True)"
   ],
   "metadata": {
    "collapsed": false
   }
  },
  {
   "cell_type": "code",
   "execution_count": null,
   "outputs": [],
   "source": [
    "res_baseline.to_csv(f'/Users/noamazmon/{file_name}')"
   ],
   "metadata": {
    "collapsed": false
   }
  },
  {
   "cell_type": "code",
   "execution_count": null,
   "outputs": [],
   "source": [
    "from scipy import stats\n",
    "stats.ttest_1samp(res_baseline['best mape test'], 0.017062)\n"
   ],
   "metadata": {
    "collapsed": false
   }
  },
  {
   "cell_type": "code",
   "execution_count": null,
   "outputs": [],
   "source": [
    "stats.ttest_1samp(globality_baseline_res['best mape test'], 0.017062, alternative='less')\n"
   ],
   "metadata": {
    "collapsed": false
   }
  },
  {
   "cell_type": "code",
   "execution_count": null,
   "outputs": [],
   "source": [
    "(globality_baseline_res['best mape test'].mean(), globality_baseline_res['best mape test'].std())"
   ],
   "metadata": {
    "collapsed": false
   }
  },
  {
   "cell_type": "code",
   "execution_count": null,
   "outputs": [],
   "source": [
    "import numpy as np\n",
    "import scipy.stats as stats\n",
    "\n",
    "# Given information\n",
    "alpha = 0.05\n",
    "\n",
    "# compute the z-score\n",
    "z_score = (0.017062-globality_baseline_res['best mape test'].mean())/(globality_baseline_res['best mape test'].std())\n",
    "print('Z-Score :',z_score)\n",
    "\n",
    "# Approach 1: Using Critical Z-Score\n",
    "\n",
    "# Critical Z-Score\n",
    "z_critical = stats.norm.ppf(1-alpha)\n",
    "print('Critical Z-Score :',z_critical)\n",
    "\n",
    "# Hypothesis\n",
    "if z_score >  z_critical:\n",
    "    print(\"Reject Null Hypothesis\")\n",
    "else:\n",
    "  print(\"Fail to Reject Null Hypothesis\")\n",
    "\n",
    "# Approach 2: Using P-value\n",
    "\n",
    "# P-Value : Probability of getting less than a Z-score\n",
    "p_value = 1-stats.norm.cdf(z_score)\n",
    "\n",
    "print('p-value :',p_value)\n",
    "\n",
    "# Hypothesis\n",
    "if p_value <  alpha:\n",
    "    print(\"Reject Null Hypothesis\")\n",
    "else:\n",
    "  print(\"Fail to Reject Null Hypothesis\")"
   ],
   "metadata": {
    "collapsed": false
   }
  },
  {
   "cell_type": "code",
   "execution_count": null,
   "outputs": [],
   "source": [
    "z_score = (0.017062 - res_baseline['best mape test'].mean()) / (\n",
    "    res_baseline['best mape test'].std())\n",
    "print('Z-Score :', z_score)\n",
    "\n",
    "# Approach 1: Using Critical Z-Score\n",
    "\n",
    "# Critical Z-Score\n",
    "z_critical = stats.norm.ppf(1 - alpha)\n",
    "print('Critical Z-Score :', z_critical)\n",
    "\n",
    "# Hypothesis\n",
    "if z_score > z_critical:\n",
    "    print(\"Reject Null Hypothesis\")\n",
    "else:\n",
    "    print(\"Fail to Reject Null Hypothesis\")\n",
    "\n",
    "# Approach 2: Using P-value\n",
    "\n",
    "# P-Value : Probability of getting less than a Z-score\n",
    "p_value = 1 - stats.norm.cdf(z_score)\n",
    "\n",
    "print('p-value :', p_value)\n",
    "\n",
    "# Hypothesis\n",
    "if p_value < alpha:\n",
    "    print(\"Reject Null Hypothesis\")\n",
    "else:\n",
    "    print(\"Fail to Reject Null Hypothesis\")\n"
   ],
   "metadata": {
    "collapsed": false
   }
  },
  {
   "cell_type": "code",
   "execution_count": null,
   "outputs": [],
   "source": [
    "(globality_baseline_res['best mape test'].mean() - 0.017062)/ globality_baseline_res['best mape test'].std()"
   ],
   "metadata": {
    "collapsed": false
   }
  },
  {
   "cell_type": "code",
   "execution_count": null,
   "outputs": [],
   "source": [
    "all_data = [\n",
    "    res_baseline['best mape test'],\n",
    "    globality_baseline_res['best mape test'],\n",
    "    res_corr['best mape test'],\n",
    "    feature_selection_res['best mape test'][feature_selection_res['num_features'] == n_features],\n",
    "]\n",
    "labels = [\n",
    "    'randomly chosen\\nfeatures',\n",
    "    'globality based randomly\\nchosen features',\n",
    "    'features correlated\\nwith chosen features',\n",
    "    'chosen with\\nfeature selection',\n",
    "]\n",
    "plt.figure(figsize=(7, 8), )\n",
    "\n",
    "plt.hlines(y=feature_selection_res['best mape test'][feature_selection_res['num_features'] == n_features], xmin=0.6,\n",
    "           xmax=len(all_data) + 0.2, colors='grey', linestyles='--', alpha=0.5,\n",
    "           label='features correlated with chosen features')\n",
    "parts = plt.violinplot(all_data,\n",
    "                       vert=True,\n",
    "                       showmeans=True,\n",
    "                       # vertical box alignment\n",
    "                       #labels=labels\n",
    "                       )\n",
    "for pc in parts['bodies']:\n",
    "    pc.set_facecolor(blues[1])\n",
    "for partname in ('cbars', 'cmins', 'cmaxes',):\n",
    "    vp = parts[partname]\n",
    "    vp.set_edgecolor(blues[0])\n",
    "plt.xticks([y + 1 for y in range(len(all_data))],\n",
    "           labels=labels, rotation=18)\n",
    "plt.ylabel(f'Mean absolute percentage error')\n",
    "plt.suptitle(\n",
    "    f\"Mean absolute percentage error on test set of an ANN predicting the mean performance of a network from it's structural features - {n_features} features chosen in different ways - {task}\",\n",
    "    #loc='center',\n",
    "    wrap=True)\n",
    "plt.savefig(f\"{plot_path}/{time_str}_differently_chosen_features_{n_features}_features_means.png\")\n",
    "plt.tight_layout()\n",
    "plt.show()"
   ],
   "metadata": {
    "collapsed": false
   }
  },
  {
   "cell_type": "code",
   "execution_count": null,
   "outputs": [],
   "source": [
    "all_data = [\n",
    "    res_baseline['best mape test'].mean(),\n",
    "    globality_baseline_res['best mape test'].mean(),\n",
    "    res_corr['best mape test'],\n",
    "    feature_selection_res['best mape test'][feature_selection_res['num_features'] == n_features],\n",
    "]\n",
    "labels = [\n",
    "    'randomly chosen\\nfeatures (mean)',\n",
    "    'globality based randomly\\nchosen features (mean)',\n",
    "    'features correlated\\nwith chosen features',\n",
    "    'chosen with\\nfeature selection',\n",
    "]\n",
    "plt.figure(figsize=(7, 8), )\n",
    "plt.hlines(y=feature_selection_res['best mape test'][feature_selection_res['num_features'] == n_features], xmin=0.6,\n",
    "           xmax=len(all_data) + 0.2, colors='grey', linestyles='--', alpha=0.5,\n",
    "           label='features correlated with chosen features')\n",
    "parts = plt.violinplot(all_data,\n",
    "                       vert=True,\n",
    "                       showmeans=True,\n",
    "                       # vertical box alignment\n",
    "                       #labels=labels\n",
    "                       )\n",
    "for pc in parts['bodies']:\n",
    "    pc.set_facecolor(blues[1])\n",
    "for partname in ('cbars', 'cmins', 'cmaxes',):\n",
    "    vp = parts[partname]\n",
    "    vp.set_edgecolor(blues[0])\n",
    "plt.xticks([y + 1 for y in range(len(all_data))],\n",
    "           labels=labels, rotation=18)\n",
    "plt.ylabel(f'Mean absolute percentage error')\n",
    "plt.suptitle(\n",
    "    f\"Mean absolute percentage error on test set of an ANN predicting the mean performance of a network from it's structural features - {n_features} features chosen in different ways - {task}\",\n",
    "    #loc='center',\n",
    "    wrap=True)\n",
    "plt.savefig(f\"{plot_path}/{time_str}_mean_differently_chosen_features_{n_features}_features_means.png\")\n",
    "plt.tight_layout()\n",
    "plt.show()"
   ],
   "metadata": {
    "collapsed": false
   }
  },
  {
   "cell_type": "code",
   "execution_count": null,
   "outputs": [],
   "source": [
    "orignaly_chosen_features_values = pd.read_csv(f\"{lgb_res_path}/{n_features}_feature_values.csv\").drop(\"Unnamed: 0\",\n",
    "                                                                                                      axis=1)\n",
    "originaly_selected_feature_names = list(orignaly_chosen_features_values.columns)[:-1]\n",
    "\n",
    "corrlated_selected_feature_names = [\n",
    "    correlated_features[feature].drop(index=feature).idxmax()\n",
    "    for feature in originaly_selected_feature_names\n",
    "]"
   ],
   "metadata": {
    "collapsed": false
   }
  },
  {
   "cell_type": "code",
   "execution_count": null,
   "outputs": [],
   "source": [
    "num_columns = int(np.ceil(len(originaly_selected_feature_names) / 2))\n",
    "fig, axs = plt.subplots(num_columns, 2, figsize=(12, 16), )\n",
    "min_x = 1.0\n",
    "max_x = 0\n",
    "idxs = []\n",
    "r, c, = axs.shape\n",
    "for i in range(r):\n",
    "    for j in range(c):\n",
    "        idxs.append((i, j))\n",
    "for k, (origin_f_name, coor_f_name, (i, j)) in enumerate(\n",
    "        zip(originaly_selected_feature_names, corrlated_selected_feature_names, idxs)):\n",
    "    correlation_val = round(correlated_features[origin_f_name].loc[coor_f_name], 3)\n",
    "    axs[i, j].scatter(corrlated_features_values[origin_f_name], corrlated_features_values[coor_f_name],\n",
    "                      color=blues[1], s=3)\n",
    "    axs[i, j].set_xlabel(textwrap.fill(origin_f_name.replace('_', ' '), width=30,\n",
    "                                       break_long_words=False), fontsize=12)\n",
    "    axs[i, j].set_ylabel(textwrap.fill(coor_f_name.replace('_', ' '), width=30,\n",
    "                                       break_long_words=False), fontsize=12)\n",
    "    axs[i, j].set_title(f'Correlation value {correlation_val}')\n",
    "    axs[i, j].tick_params(axis='x', labelsize=12)\n",
    "    axs[i, j].tick_params(axis='y', labelsize=12)\n",
    "plt.suptitle(f\"The distribution of selected features as a function of the feature most correlated with it\")\n",
    "plt.tight_layout()\n",
    "plt.savefig(\n",
    "    f\"{plot_path}/{time_str}_{task}_{n_features}_correlated_features_dist.png\")\n"
   ],
   "metadata": {
    "collapsed": false
   }
  },
  {
   "cell_type": "code",
   "execution_count": null,
   "outputs": [],
   "source": [
    "num_columns = int(np.ceil(len(originaly_selected_feature_names) / 2))\n",
    "fig, axs = plt.subplots(num_columns, 2, figsize=(12, 16), )\n",
    "min_x = 1.0\n",
    "max_x = 0\n",
    "idxs = []\n",
    "r, c, = axs.shape\n",
    "for i in range(r):\n",
    "    for j in range(c):\n",
    "        idxs.append((i, j))\n",
    "for k, (origin_f_name, coor_f_name, (i, j)) in enumerate(\n",
    "        zip(originaly_selected_feature_names, corrlated_selected_feature_names, idxs)):\n",
    "    correlation_val = round(correlated_features[origin_f_name].loc[coor_f_name], 3)\n",
    "    x_data = corrlated_features_values[origin_f_name]\n",
    "    y_data = corrlated_features_values[coor_f_name]\n",
    "    axs[i, j].scatter(x_data + np.random.normal(scale=0.5, size=x_data.shape[0]),\n",
    "                      y_data + np.random.normal(scale=0.5, size=y_data.shape[0]),\n",
    "                      color=blues[1], s=0.2)\n",
    "    axs[i, j].set_xlabel(textwrap.fill(origin_f_name.replace('_', ' '), width=30,\n",
    "                                       break_long_words=False), fontsize=12)\n",
    "    axs[i, j].set_ylabel(textwrap.fill(coor_f_name.replace('_', ' '), width=30,\n",
    "                                       break_long_words=False), fontsize=12)\n",
    "    axs[i, j].set_title(f'Correlation value {correlation_val}')\n",
    "    axs[i, j].tick_params(axis='x', labelsize=12)\n",
    "    axs[i, j].tick_params(axis='y', labelsize=12)\n",
    "plt.suptitle(\n",
    "    f\"The distribution of selected features as a function of the feature most correlated with it - noise added\")\n",
    "plt.tight_layout()\n",
    "plt.savefig(\n",
    "    f\"{plot_path}/{time_str}_{task}_{n_features}_noise_correlated_features_dist.png\")\n"
   ],
   "metadata": {
    "collapsed": false
   }
  },
  {
   "cell_type": "code",
   "execution_count": null,
   "outputs": [],
   "source": [
    "correlated_features"
   ],
   "metadata": {
    "collapsed": false
   }
  },
  {
   "cell_type": "code",
   "execution_count": null,
   "outputs": [],
   "source": [
    "NICE_FEATURES = [\n",
    "    'connectivity_ratio',\n",
    "    'num_connections',\n",
    "    'max_possible_connections',\n",
    "    'out_connections_per_layer',\n",
    "    'in_connections_per_layer',\n",
    "    'total_connectivity_ratio_between_layers',\n",
    "    'max_connectivity_between_layers_per_layer',\n",
    "    'layer_connectivity_rank',\n",
    "    'distances_between_input_neuron',\n",
    "    'num_paths_to_output_per_input_neuron',\n",
    "    'num_involved_neurons_in_paths_per_input_neuron',\n",
    "    'motifs_count',\n",
    "    'dimensions',\n",
    "    'num_layers',\n",
    "    'num_neurons'\n",
    "]\n",
    "all_ticks = []\n",
    "for feature_full_name in correlated_features.columns:\n",
    "    for feature_general_name in NICE_FEATURES:\n",
    "        if feature_general_name == 'connectivity_ratio' and feature_general_name != feature_full_name:\n",
    "            continue\n",
    "        if feature_general_name in feature_full_name:\n",
    "            all_ticks.append(feature_general_name)\n",
    "labels = []\n",
    "for name in all_ticks:\n",
    "    if name not in labels:\n",
    "        labels.append(name)\n",
    "texts = []\n",
    "colors_ = []\n",
    "for i, tick in enumerate(labels):\n",
    "    temp = [i for i, val in enumerate(all_ticks) if val == tick]\n",
    "    tick = tick.replace('connectivity_ratio', 'density').replace('_', ' ')\n",
    "    if len(temp) == 1:\n",
    "        texts.append(f\"{temp[0]}: {tick}\")\n",
    "    else:\n",
    "        texts.append(f\"{temp[0]} - {temp[-1]}: {tick}\")\n",
    "    for j in range(temp[-1] - temp[0] + 1):\n",
    "        colors_.append(COLORS_20[i])"
   ],
   "metadata": {
    "collapsed": false
   }
  },
  {
   "cell_type": "code",
   "execution_count": null,
   "outputs": [],
   "source": [
    "col = 'Blues'\n",
    "\n",
    "fig = plt.figure(figsize=(18, 12), constrained_layout=True, dpi=300)\n",
    "gs = fig.add_gridspec(2, 4)\n",
    "axs = []\n",
    "axs.append(fig.add_subplot(gs[:, 3]))\n",
    "axs.append(fig.add_subplot(gs[:, 0:3]))  # large subplot (2 rows, 2 columns)\n",
    "axtxt, ax = axs\n",
    "c = sns.color_palette(col, as_cmap=True)\n",
    "ax = sns.heatmap(correlated_features, linewidth=0.5, cmap=c, )\n",
    "ax.set_xticks(range(0, correlated_features.shape[0], 1))\n",
    "ax.set_xticklabels(list((range(0, correlated_features.shape[0], 1))))\n",
    "ax.set_yticks(range(0, correlated_features.shape[0], 1))\n",
    "ax.set_yticklabels(list((range(0, correlated_features.shape[0], 1))))\n",
    "for xtick, yticks, color, in zip(ax.get_xticklabels(), ax.get_yticklabels(), colors_):\n",
    "    xtick.set_color(color)\n",
    "    yticks.set_color(color)\n",
    "axtxt.set_axis_off()\n",
    "left, width = 0.0, .5\n",
    "top, height = 0.95, 1\n",
    "right = left + width\n",
    "bottom = top - height\n",
    "for i, (t, c) in enumerate(zip(texts, COLORS_20)):\n",
    "    axtxt.text(0.5 * (left + right), ((top) - i * 0.03), t,\n",
    "               horizontalalignment='left',\n",
    "               verticalalignment='top',\n",
    "               fontsize=12, color=c,\n",
    "               #  transform=axtxt.transAxes,\n",
    "               )\n",
    "plt.title(f\"{task} - feature correlation (abs)\")\n",
    "plt.savefig(\n",
    "    f\"{plot_path}/{time_str}_{task}_feature_correlation.png\")\n",
    "plt.show()\n",
    "print('a')\n",
    "\n",
    "\n"
   ],
   "metadata": {
    "collapsed": false
   }
  },
  {
   "cell_type": "code",
   "execution_count": null,
   "outputs": [],
   "source": [
    "plt.figure(figsize=(26,24), dpi = 300)\n",
    "c = sns.color_palette(col, as_cmap=True)\n",
    "correlated_features_new_name = correlated_features.copy()\n",
    "correlated_features_new_name.columns = all_ticks\n",
    "correlated_features_new_name.index = all_ticks\n",
    "s =sns.clustermap(correlated_features_new_name, linewidth=0.5, cmap=c,cbar_pos=(1,0.21,0.03,0.6,),figsize=(26,24))\n",
    "s.savefig(\n",
    "    f\"{plot_path}/{time_str}_{task}_feature_correlation_with_clustering.png\")\n",
    "plt.show()"
   ],
   "metadata": {
    "collapsed": false
   }
  },
  {
   "cell_type": "code",
   "execution_count": null,
   "outputs": [],
   "source": [
    "lgb_res_small_nn_path = f\"{results_path}/{res_folder}/lightgbm_feature_selection/{lgbm_folder_name}/teach_archs_regression_feature_selection_results_small_ann\"\n",
    "num_features = []\n",
    "feature_selection_small_ann_res = pd.DataFrame()\n",
    "for file_name in os.listdir(lgb_res_small_nn_path):\n",
    "    if 'best.csv' not in file_name:\n",
    "        continue\n",
    "    temp = pd.read_csv(f\"{lgb_res_small_nn_path}/{file_name}\")\n",
    "    temp['num_features'] = int(file_name.split('only_')[1].split('_features')[0])\n",
    "    feature_selection_small_ann_res = pd.concat([feature_selection_small_ann_res, temp], ignore_index=True)\n",
    "feature_selection_small_ann_res = feature_selection_small_ann_res.sort_values('num_features')"
   ],
   "metadata": {
    "collapsed": false
   }
  },
  {
   "cell_type": "code",
   "execution_count": null,
   "outputs": [],
   "source": [
    "plt.plot(feature_selection_small_ann_res['num_features'], feature_selection_small_ann_res['best mape train'],\n",
    "         label='train', c=blues[1])\n",
    "plt.plot(feature_selection_small_ann_res['num_features'], feature_selection_small_ann_res['best mape test'],\n",
    "         label='test', c=blues[0])\n",
    "\n",
    "plt.xlabel('number of features', fontsize=12)\n",
    "plt.ylabel(f'Mean absolute percentage error', fontsize=12)\n",
    "plt.legend()\n",
    "plt.title(\n",
    "    f\"Prediction of an ANN based on structural features {task.capitalize()}\",\n",
    "    wrap=True, fontsize=12)\n",
    "plt.yticks(fontsize=11)\n",
    "plt.xticks(fontsize=11)\n",
    "plt.tight_layout()\n",
    "plt.savefig(\n",
    "    f\"{plot_path}/{time_str}_{task}_nn_feature_selection_r2_mape_small_ann.png\")\n",
    "plt.show()"
   ],
   "metadata": {
    "collapsed": false
   }
  },
  {
   "cell_type": "code",
   "execution_count": null,
   "outputs": [],
   "source": [
    "fig, (ax1, ax2) = plt.subplots(1, 2, figsize=(7, 6), sharex='all', sharey='all')\n",
    "max_y = max((feature_selection_res['best mape test'].max(), feature_selection_res['best mape train'].max(),\n",
    "             feature_selection_small_ann_res['best mape test'].max(),\n",
    "             feature_selection_small_ann_res['best mape train'].max()))\n",
    "min_y = min((feature_selection_res['best mape test'].min(), feature_selection_res['best mape train'].min(),\n",
    "             feature_selection_small_ann_res['best mape test'].min(),\n",
    "             feature_selection_small_ann_res['best mape train'].min()))\n",
    "ax1.vlines(ymax=max_y, x=n_features, ymin=min_y, color='grey', linestyles='--', alpha=0.8)\n",
    "ax2.vlines(ymax=max_y, x=n_features, ymin=min_y, color='grey', linestyles='--', alpha=0.8)\n",
    "ax1.plot(feature_selection_small_ann_res['num_features'], feature_selection_small_ann_res['best mape train'],\n",
    "         label='samll ANN', c=blues[1])\n",
    "ax1.plot(feature_selection_res['num_features'], feature_selection_res['best mape train'], label='big ANN', c=blues[0])\n",
    "ax2.plot(feature_selection_small_ann_res['num_features'], feature_selection_small_ann_res['best mape test'],\n",
    "         label='samll ANN', c=blues[1])\n",
    "ax2.plot(feature_selection_res['num_features'], feature_selection_res['best mape test'], label='big ANN', c=blues[0])\n",
    "\n",
    "ax1.set_xlabel('number of features', fontsize=12)\n",
    "ax2.set_xlabel('number of features', fontsize=12)\n",
    "ax1.set_ylabel(f'Mean absolute percentage error', fontsize=12)\n",
    "ax1.set_title('train data')\n",
    "ax2.set_title('test data')\n",
    "ax1.legend()\n",
    "ax2.legend()\n",
    "plt.suptitle(\n",
    "    f\"Prediction of an ANN based on structural features {task.capitalize()}\",\n",
    "    wrap=True, fontsize=16)\n",
    "plt.yticks(fontsize=11)\n",
    "plt.xticks(fontsize=11)\n",
    "plt.tight_layout()\n",
    "plt.savefig(\n",
    "    f\"{plot_path}/{time_str}_{task}_nn_feature_selection_r2_mape_big_vs_smal_ann.png\")\n",
    "plt.show()"
   ],
   "metadata": {
    "collapsed": false
   }
  },
  {
   "cell_type": "code",
   "execution_count": null,
   "outputs": [],
   "source": [],
   "metadata": {
    "collapsed": false
   }
  }
 ],
 "metadata": {
  "kernelspec": {
   "display_name": "Python 3",
   "language": "python",
   "name": "python3"
  },
  "language_info": {
   "codemirror_mode": {
    "name": "ipython",
    "version": 2
   },
   "file_extension": ".py",
   "mimetype": "text/x-python",
   "name": "python",
   "nbconvert_exporter": "python",
   "pygments_lexer": "ipython2",
   "version": "2.7.6"
  }
 },
 "nbformat": 4,
 "nbformat_minor": 0
}
